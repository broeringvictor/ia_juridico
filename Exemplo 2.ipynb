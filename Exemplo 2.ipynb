{
 "cells": [
  {
   "cell_type": "code",
   "execution_count": 19,
   "id": "28dc70d8",
   "metadata": {},
   "outputs": [],
   "source": [
    "chave_openai = \"sk-z98eLFYzkYaFX5hAMzB2FrputydcOqVT9caGJsBM5mT3BlbkFJgcZ2jV7pX6kqnmw69MBKseEo9Y57E3gIPmCkz-4WUA\""
   ]
  },
  {
   "cell_type": "code",
   "execution_count": 20,
   "id": "0ffcbb8f",
   "metadata": {},
   "outputs": [],
   "source": [
    "import os\n",
    "import glob\n",
    "import openai\n",
    "from langchain.llms import OpenAI\n",
    "from langchain.agents import initialize_agent, Tool\n",
    "from langchain.memory import ConversationBufferMemory\n",
    "from langchain.document_loaders import PyPDFLoader\n",
    "from langchain.text_splitter import RecursiveCharacterTextSplitter"
   ]
  },
  {
   "cell_type": "code",
   "execution_count": 21,
   "id": "8bd226d6",
   "metadata": {},
   "outputs": [],
   "source": [
    "chave_openai = \"sk-z98eLFYzkYaFX5hAMzB2FrputydcOqVT9caGJsBM5mT3BlbkFJgcZ2jV7pX6kqnmw69MBKseEo9Y57E3gIPmCkz-4WUA\"\n",
    "openai.api_key = chave_openai"
   ]
  },
  {
   "cell_type": "code",
   "execution_count": 22,
   "id": "0c96d695",
   "metadata": {},
   "outputs": [],
   "source": [
    "\n",
    "\n",
    "# Função para extrair a seção \"Dos Fatos\" dos PDFs\n",
    "def extrair_dos_fatos(pasta):\n",
    "    # Encontrar todos os arquivos PDF na pasta especificada\n",
    "    pdf_paths = glob.glob(os.path.join(pasta, '*.pdf'))\n",
    "\n",
    "    textos_dos_fatos = []\n",
    "    for pdf_path in pdf_paths:\n",
    "        loader = PyPDFLoader(pdf_path)\n",
    "        documentos = loader.load()\n",
    "        texto_completo = \"\\n\".join([pagina.page_content for pagina in documentos])\n",
    "\n",
    "        # Extrair a seção \"Dos Fatos\"\n",
    "        if 'Dos Fatos' in texto_completo:\n",
    "            indice_inicio = texto_completo.find('Dos Fatos')\n",
    "            indice_fim = texto_completo.find('Do Direito', indice_inicio)\n",
    "            if indice_fim == -1:\n",
    "                indice_fim = len(texto_completo)\n",
    "            dos_fatos = texto_completo[indice_inicio:indice_fim]\n",
    "            textos_dos_fatos.append(dos_fatos)\n",
    "    \n",
    "    return textos_dos_fatos\n",
    "\n",
    "# Caminho da pasta com os PDFs\n",
    "pasta_pdfs = r\"C:\\Users\\Victor Broering\\pycode\\ia_juridico\\memoria\"\n",
    "\n",
    "# Chama a função e imprime o resultado\n",
    "resultados = extrair_dos_fatos(pasta_pdfs)\n",
    "\n",
    "# Exibe os textos extraídos\n",
    "for i, texto in enumerate(resultados):\n",
    "    print(f\"Texto extraído do arquivo {i+1}:\\n{texto}\\n\")\n"
   ]
  },
  {
   "cell_type": "code",
   "execution_count": 23,
   "id": "94dd07fe",
   "metadata": {},
   "outputs": [],
   "source": [
    "def criar_prompt_estilo(textos_dos_fatos):\n",
    "    texto_combinado = \"\\n\".join(textos_dos_fatos)\n",
    "    if len(texto_combinado) > 2000:\n",
    "        texto_combinado = texto_combinado[:2000]\n",
    "    prompt_estilo = f\"Por favor, ao processar os textos dos PDFs, utilize o exemplo de estilo de redação fornecido a seguir como referência. Mantenha o embasamento legal e o tom jurídico apropriado. Evite o uso do termo 'menor', que pode ser considerado pejorativo; em vez disso, utilize 'infante', 'criança' ou 'adolescente', conforme o caso, se necessário.:\\n{texto_combinado}\\n\\n\"\n",
    "    return prompt_estilo"
   ]
  },
  {
   "cell_type": "code",
   "execution_count": 24,
   "id": "054cee5c",
   "metadata": {},
   "outputs": [],
   "source": [
    "def criar_agente(prompt_estilo):\n",
    "    llm = OpenAI(model_name='gpt4-o', temperature=0.7)\n",
    "    ferramentas = []\n",
    "    memoria = ConversationBufferMemory(memory_key='chat_history')\n",
    "    agente = initialize_agent(ferramentas, llm, agent='zero-shot-react-description', memory=memoria, verbose=True)\n",
    "    prompt = PromptTemplate(\n",
    "        input_variables=['input_text'],\n",
    "        template=(\n",
    "            f\"{prompt_estilo}\"\n",
    "            \"Agora, escreva uma resposta seguindo o mesmo estilo para os seguintes fatos fornecidos pelo usuário:\\n\"\n",
    "            \"{{input_text}}\\n\\n\"\n",
    "            \"No final, indique o que precisa ser provado.\"\n",
    "        )\n",
    "    )\n",
    "    llm_chain = LLMChain(llm=llm, prompt=prompt, verbose=True)\n",
    "    return llm_chain\n",
    "\n"
   ]
  },
  {
   "cell_type": "code",
   "execution_count": 25,
   "id": "3def034d",
   "metadata": {},
   "outputs": [],
   "source": [
    "def main():\n",
    "    # Caminho da pasta com os PDFs\n",
    "    pasta_pdfs = r\"C:\\Users\\Victor Broering\\pycode\\ia_juridico\\memoria\"\n",
    "\n",
    "    # Encontrar todos os arquivos PDF na pasta especificada\n",
    "    pdf_paths = glob.glob(os.path.join(pasta_pdfs, '*.pdf'))\n",
    "\n",
    "    # Verificar se encontrou PDFs\n",
    "    if not pdf_paths:\n",
    "        print(f\"Nenhum arquivo PDF foi encontrado na pasta {pasta_pdfs}\")\n",
    "        return\n",
    "\n",
    "    # Extrair as seções \"Dos Fatos\"\n",
    "    textos_dos_fatos = extrair_dos_fatos(pdf_paths)\n",
    "    if not textos_dos_fatos:\n",
    "        print(\"Não foi possível encontrar a seção 'Dos Fatos' nos PDFs fornecidos.\")\n",
    "        return\n",
    "\n",
    "    # Criar o prompt de estilo\n",
    "    prompt_estilo = criar_prompt_estilo(textos_dos_fatos)\n",
    "\n",
    "    # Criar o agente (LLMChain)\n",
    "    agente = criar_agente(prompt_estilo)\n",
    "\n",
    "    print(\"Escreva os fatos da petição jurídica (ou digite 'sair' para encerrar):\")\n",
    "    while True:\n",
    "        entrada_usuario = input()\n",
    "        if entrada_usuario.lower() in ['sair', 'exit', 'quit']:\n",
    "            break\n",
    "\n",
    "        # Obter a resposta do agente\n",
    "        resposta = agente.run(entrada_usuario)\n",
    "        print(\"\\nResposta Gerada:\\n\")\n",
    "        print(resposta)\n",
    "\n",
    "        # Perguntar se o usuário deseja salvar a resposta\n",
    "        salvar = input(\"\\nDeseja salvar a resposta em um arquivo? (s/n): \")\n",
    "        if salvar.lower() == 's':\n",
    "            nome_arquivo = input(\"Digite o nome do arquivo (sem extensão): \")\n",
    "            with open(f\"{nome_arquivo}.txt\", 'w', encoding='utf-8') as f:\n",
    "                f.write(resposta)\n",
    "            print(f\"Resposta salva em {nome_arquivo}.txt\")\n",
    "\n",
    "\n",
    "    main()"
   ]
  }
 ],
 "metadata": {
  "kernelspec": {
   "display_name": "Python 3 (ipykernel)",
   "language": "python",
   "name": "python3"
  },
  "language_info": {
   "codemirror_mode": {
    "name": "ipython",
    "version": 3
   },
   "file_extension": ".py",
   "mimetype": "text/x-python",
   "name": "python",
   "nbconvert_exporter": "python",
   "pygments_lexer": "ipython3",
   "version": "3.12.6"
  }
 },
 "nbformat": 4,
 "nbformat_minor": 5
}
